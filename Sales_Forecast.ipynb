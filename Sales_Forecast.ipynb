{
  "nbformat": 4,
  "nbformat_minor": 0,
  "metadata": {
    "colab": {
      "provenance": [],
      "authorship_tag": "ABX9TyMM4nmeOLYHXvf56WKAwHRu",
      "include_colab_link": true
    },
    "kernelspec": {
      "name": "python3",
      "display_name": "Python 3"
    },
    "language_info": {
      "name": "python"
    }
  },
  "cells": [
    {
      "cell_type": "markdown",
      "metadata": {
        "id": "view-in-github",
        "colab_type": "text"
      },
      "source": [
        "<a href=\"https://colab.research.google.com/github/vivekajayjariwala/SalesForecaster/blob/main/Sales_Forecast.ipynb\" target=\"_parent\"><img src=\"https://colab.research.google.com/assets/colab-badge.svg\" alt=\"Open In Colab\"/></a>"
      ]
    },
    {
      "cell_type": "code",
      "execution_count": null,
      "metadata": {
        "id": "NYbZ8qVfqFDp"
      },
      "outputs": [],
      "source": [
        "import os"
      ]
    },
    {
      "cell_type": "code",
      "source": [
        "import pandas as pd\n",
        "import numpy as np\n",
        "import matplotlib.pyplot as plt\n",
        "from xgboost import XGBRegressor\n",
        "from sklearn.ensemble import RandomForestRegressor\n",
        "from sklearn.linear_model import LinearRegression\n",
        "from sklearn.preprocessing import MinMaxScaler\n",
        "from sklearn.metrics import mean_absolute_error, mean_squared_error, r2_score\n",
        "from tensorflow.keras.models import Sequential\n",
        "from tensorflow.keras.layers import Dense, LSTM\n",
        "from tensorflow.keras.callbacks import EarlyStopping, ModelCheckpoint\n",
        "\n",
        "#data from train.csv is in order: date, store, item, sales\n",
        "\n"
      ],
      "metadata": {
        "id": "LDoANP_IqXnN"
      },
      "execution_count": null,
      "outputs": []
    },
    {
      "cell_type": "code",
      "source": [
        "\n",
        "store_sales = pd.read_csv(\"train.csv\")\n",
        "store_sales.head(10) # gives data from 0-9 rows, so first 10 lines"
      ],
      "metadata": {
        "colab": {
          "base_uri": "https://localhost:8080/",
          "height": 363
        },
        "id": "Xa3g54tNsR7w",
        "outputId": "1ac52521-ff02-4668-8435-8720ebd6d2d0"
      },
      "execution_count": null,
      "outputs": [
        {
          "output_type": "execute_result",
          "data": {
            "text/plain": [
              "         date  store  item  sales\n",
              "0  2013-01-01      1     1     13\n",
              "1  2013-01-02      1     1     11\n",
              "2  2013-01-03      1     1     14\n",
              "3  2013-01-04      1     1     13\n",
              "4  2013-01-05      1     1     10\n",
              "5  2013-01-06      1     1     12\n",
              "6  2013-01-07      1     1     10\n",
              "7  2013-01-08      1     1      9\n",
              "8  2013-01-09      1     1     12\n",
              "9  2013-01-10      1     1      9"
            ],
            "text/html": [
              "\n",
              "  <div id=\"df-739a8c88-c732-43dd-9874-f7abd667d74d\">\n",
              "    <div class=\"colab-df-container\">\n",
              "      <div>\n",
              "<style scoped>\n",
              "    .dataframe tbody tr th:only-of-type {\n",
              "        vertical-align: middle;\n",
              "    }\n",
              "\n",
              "    .dataframe tbody tr th {\n",
              "        vertical-align: top;\n",
              "    }\n",
              "\n",
              "    .dataframe thead th {\n",
              "        text-align: right;\n",
              "    }\n",
              "</style>\n",
              "<table border=\"1\" class=\"dataframe\">\n",
              "  <thead>\n",
              "    <tr style=\"text-align: right;\">\n",
              "      <th></th>\n",
              "      <th>date</th>\n",
              "      <th>store</th>\n",
              "      <th>item</th>\n",
              "      <th>sales</th>\n",
              "    </tr>\n",
              "  </thead>\n",
              "  <tbody>\n",
              "    <tr>\n",
              "      <th>0</th>\n",
              "      <td>2013-01-01</td>\n",
              "      <td>1</td>\n",
              "      <td>1</td>\n",
              "      <td>13</td>\n",
              "    </tr>\n",
              "    <tr>\n",
              "      <th>1</th>\n",
              "      <td>2013-01-02</td>\n",
              "      <td>1</td>\n",
              "      <td>1</td>\n",
              "      <td>11</td>\n",
              "    </tr>\n",
              "    <tr>\n",
              "      <th>2</th>\n",
              "      <td>2013-01-03</td>\n",
              "      <td>1</td>\n",
              "      <td>1</td>\n",
              "      <td>14</td>\n",
              "    </tr>\n",
              "    <tr>\n",
              "      <th>3</th>\n",
              "      <td>2013-01-04</td>\n",
              "      <td>1</td>\n",
              "      <td>1</td>\n",
              "      <td>13</td>\n",
              "    </tr>\n",
              "    <tr>\n",
              "      <th>4</th>\n",
              "      <td>2013-01-05</td>\n",
              "      <td>1</td>\n",
              "      <td>1</td>\n",
              "      <td>10</td>\n",
              "    </tr>\n",
              "    <tr>\n",
              "      <th>5</th>\n",
              "      <td>2013-01-06</td>\n",
              "      <td>1</td>\n",
              "      <td>1</td>\n",
              "      <td>12</td>\n",
              "    </tr>\n",
              "    <tr>\n",
              "      <th>6</th>\n",
              "      <td>2013-01-07</td>\n",
              "      <td>1</td>\n",
              "      <td>1</td>\n",
              "      <td>10</td>\n",
              "    </tr>\n",
              "    <tr>\n",
              "      <th>7</th>\n",
              "      <td>2013-01-08</td>\n",
              "      <td>1</td>\n",
              "      <td>1</td>\n",
              "      <td>9</td>\n",
              "    </tr>\n",
              "    <tr>\n",
              "      <th>8</th>\n",
              "      <td>2013-01-09</td>\n",
              "      <td>1</td>\n",
              "      <td>1</td>\n",
              "      <td>12</td>\n",
              "    </tr>\n",
              "    <tr>\n",
              "      <th>9</th>\n",
              "      <td>2013-01-10</td>\n",
              "      <td>1</td>\n",
              "      <td>1</td>\n",
              "      <td>9</td>\n",
              "    </tr>\n",
              "  </tbody>\n",
              "</table>\n",
              "</div>\n",
              "      <button class=\"colab-df-convert\" onclick=\"convertToInteractive('df-739a8c88-c732-43dd-9874-f7abd667d74d')\"\n",
              "              title=\"Convert this dataframe to an interactive table.\"\n",
              "              style=\"display:none;\">\n",
              "        \n",
              "  <svg xmlns=\"http://www.w3.org/2000/svg\" height=\"24px\"viewBox=\"0 0 24 24\"\n",
              "       width=\"24px\">\n",
              "    <path d=\"M0 0h24v24H0V0z\" fill=\"none\"/>\n",
              "    <path d=\"M18.56 5.44l.94 2.06.94-2.06 2.06-.94-2.06-.94-.94-2.06-.94 2.06-2.06.94zm-11 1L8.5 8.5l.94-2.06 2.06-.94-2.06-.94L8.5 2.5l-.94 2.06-2.06.94zm10 10l.94 2.06.94-2.06 2.06-.94-2.06-.94-.94-2.06-.94 2.06-2.06.94z\"/><path d=\"M17.41 7.96l-1.37-1.37c-.4-.4-.92-.59-1.43-.59-.52 0-1.04.2-1.43.59L10.3 9.45l-7.72 7.72c-.78.78-.78 2.05 0 2.83L4 21.41c.39.39.9.59 1.41.59.51 0 1.02-.2 1.41-.59l7.78-7.78 2.81-2.81c.8-.78.8-2.07 0-2.86zM5.41 20L4 18.59l7.72-7.72 1.47 1.35L5.41 20z\"/>\n",
              "  </svg>\n",
              "      </button>\n",
              "      \n",
              "  <style>\n",
              "    .colab-df-container {\n",
              "      display:flex;\n",
              "      flex-wrap:wrap;\n",
              "      gap: 12px;\n",
              "    }\n",
              "\n",
              "    .colab-df-convert {\n",
              "      background-color: #E8F0FE;\n",
              "      border: none;\n",
              "      border-radius: 50%;\n",
              "      cursor: pointer;\n",
              "      display: none;\n",
              "      fill: #1967D2;\n",
              "      height: 32px;\n",
              "      padding: 0 0 0 0;\n",
              "      width: 32px;\n",
              "    }\n",
              "\n",
              "    .colab-df-convert:hover {\n",
              "      background-color: #E2EBFA;\n",
              "      box-shadow: 0px 1px 2px rgba(60, 64, 67, 0.3), 0px 1px 3px 1px rgba(60, 64, 67, 0.15);\n",
              "      fill: #174EA6;\n",
              "    }\n",
              "\n",
              "    [theme=dark] .colab-df-convert {\n",
              "      background-color: #3B4455;\n",
              "      fill: #D2E3FC;\n",
              "    }\n",
              "\n",
              "    [theme=dark] .colab-df-convert:hover {\n",
              "      background-color: #434B5C;\n",
              "      box-shadow: 0px 1px 3px 1px rgba(0, 0, 0, 0.15);\n",
              "      filter: drop-shadow(0px 1px 2px rgba(0, 0, 0, 0.3));\n",
              "      fill: #FFFFFF;\n",
              "    }\n",
              "  </style>\n",
              "\n",
              "      <script>\n",
              "        const buttonEl =\n",
              "          document.querySelector('#df-739a8c88-c732-43dd-9874-f7abd667d74d button.colab-df-convert');\n",
              "        buttonEl.style.display =\n",
              "          google.colab.kernel.accessAllowed ? 'block' : 'none';\n",
              "\n",
              "        async function convertToInteractive(key) {\n",
              "          const element = document.querySelector('#df-739a8c88-c732-43dd-9874-f7abd667d74d');\n",
              "          const dataTable =\n",
              "            await google.colab.kernel.invokeFunction('convertToInteractive',\n",
              "                                                     [key], {});\n",
              "          if (!dataTable) return;\n",
              "\n",
              "          const docLinkHtml = 'Like what you see? Visit the ' +\n",
              "            '<a target=\"_blank\" href=https://colab.research.google.com/notebooks/data_table.ipynb>data table notebook</a>'\n",
              "            + ' to learn more about interactive tables.';\n",
              "          element.innerHTML = '';\n",
              "          dataTable['output_type'] = 'display_data';\n",
              "          await google.colab.output.renderOutput(dataTable, element);\n",
              "          const docLink = document.createElement('div');\n",
              "          docLink.innerHTML = docLinkHtml;\n",
              "          element.appendChild(docLink);\n",
              "        }\n",
              "      </script>\n",
              "    </div>\n",
              "  </div>\n",
              "  "
            ]
          },
          "metadata": {},
          "execution_count": 106
        }
      ]
    },
    {
      "cell_type": "markdown",
      "source": [
        "Check for null values in the dataset"
      ],
      "metadata": {
        "id": "5Z0y1ujmsekY"
      }
    },
    {
      "cell_type": "code",
      "source": [
        "store_sales.info()"
      ],
      "metadata": {
        "colab": {
          "base_uri": "https://localhost:8080/"
        },
        "id": "DiYGjA7rshQr",
        "outputId": "d3390ddc-0b86-4d2e-e0de-90ca1c9d3938"
      },
      "execution_count": null,
      "outputs": [
        {
          "output_type": "stream",
          "name": "stdout",
          "text": [
            "<class 'pandas.core.frame.DataFrame'>\n",
            "RangeIndex: 913000 entries, 0 to 912999\n",
            "Data columns (total 4 columns):\n",
            " #   Column  Non-Null Count   Dtype \n",
            "---  ------  --------------   ----- \n",
            " 0   date    913000 non-null  object\n",
            " 1   store   913000 non-null  int64 \n",
            " 2   item    913000 non-null  int64 \n",
            " 3   sales   913000 non-null  int64 \n",
            "dtypes: int64(3), object(1)\n",
            "memory usage: 27.9+ MB\n"
          ]
        }
      ]
    },
    {
      "cell_type": "markdown",
      "source": [
        "We need to drop store and item columns, since we mainly dealing with sales"
      ],
      "metadata": {
        "id": "UdSt_Ki9srWO"
      }
    },
    {
      "cell_type": "code",
      "source": [
        "store_sales = store_sales.drop(['store', 'item'], axis=1) "
      ],
      "metadata": {
        "id": "iKYbHvkysvli"
      },
      "execution_count": null,
      "outputs": []
    },
    {
      "cell_type": "code",
      "source": [
        "store_sales.info() #now we have the date and the sales "
      ],
      "metadata": {
        "colab": {
          "base_uri": "https://localhost:8080/"
        },
        "id": "hA_wp78Es2NO",
        "outputId": "741db79b-3f37-4ee1-a1ed-55d2df5eae30"
      },
      "execution_count": null,
      "outputs": [
        {
          "output_type": "stream",
          "name": "stdout",
          "text": [
            "<class 'pandas.core.frame.DataFrame'>\n",
            "RangeIndex: 913000 entries, 0 to 912999\n",
            "Data columns (total 2 columns):\n",
            " #   Column  Non-Null Count   Dtype \n",
            "---  ------  --------------   ----- \n",
            " 0   date    913000 non-null  object\n",
            " 1   sales   913000 non-null  int64 \n",
            "dtypes: int64(1), object(1)\n",
            "memory usage: 13.9+ MB\n"
          ]
        }
      ]
    },
    {
      "cell_type": "markdown",
      "source": [
        "converting the date from object datatype to dateTime datatype "
      ],
      "metadata": {
        "id": "j5apQiG3tCCa"
      }
    },
    {
      "cell_type": "code",
      "source": [
        "store_sales['date'] = pd.to_datetime(store_sales[\"date\"])"
      ],
      "metadata": {
        "id": "zHNfqmmwtG5t"
      },
      "execution_count": null,
      "outputs": []
    },
    {
      "cell_type": "markdown",
      "source": [
        "store_"
      ],
      "metadata": {
        "id": "ohZiKnsrtK-w"
      }
    },
    {
      "cell_type": "code",
      "source": [
        "store_sales.info()"
      ],
      "metadata": {
        "colab": {
          "base_uri": "https://localhost:8080/"
        },
        "id": "sqgrbm0vtQfP",
        "outputId": "7a08b728-5ccc-42bb-d6d6-f5bb48a61603"
      },
      "execution_count": null,
      "outputs": [
        {
          "output_type": "stream",
          "name": "stdout",
          "text": [
            "<class 'pandas.core.frame.DataFrame'>\n",
            "RangeIndex: 913000 entries, 0 to 912999\n",
            "Data columns (total 2 columns):\n",
            " #   Column  Non-Null Count   Dtype         \n",
            "---  ------  --------------   -----         \n",
            " 0   date    913000 non-null  datetime64[ns]\n",
            " 1   sales   913000 non-null  int64         \n",
            "dtypes: datetime64[ns](1), int64(1)\n",
            "memory usage: 13.9 MB\n"
          ]
        }
      ]
    },
    {
      "cell_type": "markdown",
      "source": [
        "converting date to a Month period and then sum the number of items in each month"
      ],
      "metadata": {
        "id": "nfzgmY1QtYjs"
      }
    },
    {
      "cell_type": "code",
      "source": [
        "store_sales['date'] = store_sales['date'].dt.to_period(\"M\")\n",
        "monthly_sales = store_sales.groupby('date').sum().reset_index()"
      ],
      "metadata": {
        "id": "o2oN_3QUtcxe"
      },
      "execution_count": null,
      "outputs": []
    },
    {
      "cell_type": "markdown",
      "source": [
        "conver the resulting date column to timestamp datatype"
      ],
      "metadata": {
        "id": "nenwepAnt5Ly"
      }
    },
    {
      "cell_type": "code",
      "source": [
        "monthly_sales['date'] = monthly_sales['date'].dt.to_timestamp()"
      ],
      "metadata": {
        "id": "7MWn4Qmpt8xq"
      },
      "execution_count": null,
      "outputs": []
    },
    {
      "cell_type": "code",
      "source": [
        "monthly_sales.head(10)"
      ],
      "metadata": {
        "colab": {
          "base_uri": "https://localhost:8080/",
          "height": 363
        },
        "id": "J7sA7kpCuBhC",
        "outputId": "0a6fa6f7-b8dc-4d18-ab6f-6ddf871604f3"
      },
      "execution_count": null,
      "outputs": [
        {
          "output_type": "execute_result",
          "data": {
            "text/plain": [
              "        date   sales\n",
              "0 2013-01-01  454904\n",
              "1 2013-02-01  459417\n",
              "2 2013-03-01  617382\n",
              "3 2013-04-01  682274\n",
              "4 2013-05-01  763242\n",
              "5 2013-06-01  795597\n",
              "6 2013-07-01  855922\n",
              "7 2013-08-01  766761\n",
              "8 2013-09-01  689907\n",
              "9 2013-10-01  656587"
            ],
            "text/html": [
              "\n",
              "  <div id=\"df-5fe6e5f7-9771-4a4c-817a-ea6c6f13a7dc\">\n",
              "    <div class=\"colab-df-container\">\n",
              "      <div>\n",
              "<style scoped>\n",
              "    .dataframe tbody tr th:only-of-type {\n",
              "        vertical-align: middle;\n",
              "    }\n",
              "\n",
              "    .dataframe tbody tr th {\n",
              "        vertical-align: top;\n",
              "    }\n",
              "\n",
              "    .dataframe thead th {\n",
              "        text-align: right;\n",
              "    }\n",
              "</style>\n",
              "<table border=\"1\" class=\"dataframe\">\n",
              "  <thead>\n",
              "    <tr style=\"text-align: right;\">\n",
              "      <th></th>\n",
              "      <th>date</th>\n",
              "      <th>sales</th>\n",
              "    </tr>\n",
              "  </thead>\n",
              "  <tbody>\n",
              "    <tr>\n",
              "      <th>0</th>\n",
              "      <td>2013-01-01</td>\n",
              "      <td>454904</td>\n",
              "    </tr>\n",
              "    <tr>\n",
              "      <th>1</th>\n",
              "      <td>2013-02-01</td>\n",
              "      <td>459417</td>\n",
              "    </tr>\n",
              "    <tr>\n",
              "      <th>2</th>\n",
              "      <td>2013-03-01</td>\n",
              "      <td>617382</td>\n",
              "    </tr>\n",
              "    <tr>\n",
              "      <th>3</th>\n",
              "      <td>2013-04-01</td>\n",
              "      <td>682274</td>\n",
              "    </tr>\n",
              "    <tr>\n",
              "      <th>4</th>\n",
              "      <td>2013-05-01</td>\n",
              "      <td>763242</td>\n",
              "    </tr>\n",
              "    <tr>\n",
              "      <th>5</th>\n",
              "      <td>2013-06-01</td>\n",
              "      <td>795597</td>\n",
              "    </tr>\n",
              "    <tr>\n",
              "      <th>6</th>\n",
              "      <td>2013-07-01</td>\n",
              "      <td>855922</td>\n",
              "    </tr>\n",
              "    <tr>\n",
              "      <th>7</th>\n",
              "      <td>2013-08-01</td>\n",
              "      <td>766761</td>\n",
              "    </tr>\n",
              "    <tr>\n",
              "      <th>8</th>\n",
              "      <td>2013-09-01</td>\n",
              "      <td>689907</td>\n",
              "    </tr>\n",
              "    <tr>\n",
              "      <th>9</th>\n",
              "      <td>2013-10-01</td>\n",
              "      <td>656587</td>\n",
              "    </tr>\n",
              "  </tbody>\n",
              "</table>\n",
              "</div>\n",
              "      <button class=\"colab-df-convert\" onclick=\"convertToInteractive('df-5fe6e5f7-9771-4a4c-817a-ea6c6f13a7dc')\"\n",
              "              title=\"Convert this dataframe to an interactive table.\"\n",
              "              style=\"display:none;\">\n",
              "        \n",
              "  <svg xmlns=\"http://www.w3.org/2000/svg\" height=\"24px\"viewBox=\"0 0 24 24\"\n",
              "       width=\"24px\">\n",
              "    <path d=\"M0 0h24v24H0V0z\" fill=\"none\"/>\n",
              "    <path d=\"M18.56 5.44l.94 2.06.94-2.06 2.06-.94-2.06-.94-.94-2.06-.94 2.06-2.06.94zm-11 1L8.5 8.5l.94-2.06 2.06-.94-2.06-.94L8.5 2.5l-.94 2.06-2.06.94zm10 10l.94 2.06.94-2.06 2.06-.94-2.06-.94-.94-2.06-.94 2.06-2.06.94z\"/><path d=\"M17.41 7.96l-1.37-1.37c-.4-.4-.92-.59-1.43-.59-.52 0-1.04.2-1.43.59L10.3 9.45l-7.72 7.72c-.78.78-.78 2.05 0 2.83L4 21.41c.39.39.9.59 1.41.59.51 0 1.02-.2 1.41-.59l7.78-7.78 2.81-2.81c.8-.78.8-2.07 0-2.86zM5.41 20L4 18.59l7.72-7.72 1.47 1.35L5.41 20z\"/>\n",
              "  </svg>\n",
              "      </button>\n",
              "      \n",
              "  <style>\n",
              "    .colab-df-container {\n",
              "      display:flex;\n",
              "      flex-wrap:wrap;\n",
              "      gap: 12px;\n",
              "    }\n",
              "\n",
              "    .colab-df-convert {\n",
              "      background-color: #E8F0FE;\n",
              "      border: none;\n",
              "      border-radius: 50%;\n",
              "      cursor: pointer;\n",
              "      display: none;\n",
              "      fill: #1967D2;\n",
              "      height: 32px;\n",
              "      padding: 0 0 0 0;\n",
              "      width: 32px;\n",
              "    }\n",
              "\n",
              "    .colab-df-convert:hover {\n",
              "      background-color: #E2EBFA;\n",
              "      box-shadow: 0px 1px 2px rgba(60, 64, 67, 0.3), 0px 1px 3px 1px rgba(60, 64, 67, 0.15);\n",
              "      fill: #174EA6;\n",
              "    }\n",
              "\n",
              "    [theme=dark] .colab-df-convert {\n",
              "      background-color: #3B4455;\n",
              "      fill: #D2E3FC;\n",
              "    }\n",
              "\n",
              "    [theme=dark] .colab-df-convert:hover {\n",
              "      background-color: #434B5C;\n",
              "      box-shadow: 0px 1px 3px 1px rgba(0, 0, 0, 0.15);\n",
              "      filter: drop-shadow(0px 1px 2px rgba(0, 0, 0, 0.3));\n",
              "      fill: #FFFFFF;\n",
              "    }\n",
              "  </style>\n",
              "\n",
              "      <script>\n",
              "        const buttonEl =\n",
              "          document.querySelector('#df-5fe6e5f7-9771-4a4c-817a-ea6c6f13a7dc button.colab-df-convert');\n",
              "        buttonEl.style.display =\n",
              "          google.colab.kernel.accessAllowed ? 'block' : 'none';\n",
              "\n",
              "        async function convertToInteractive(key) {\n",
              "          const element = document.querySelector('#df-5fe6e5f7-9771-4a4c-817a-ea6c6f13a7dc');\n",
              "          const dataTable =\n",
              "            await google.colab.kernel.invokeFunction('convertToInteractive',\n",
              "                                                     [key], {});\n",
              "          if (!dataTable) return;\n",
              "\n",
              "          const docLinkHtml = 'Like what you see? Visit the ' +\n",
              "            '<a target=\"_blank\" href=https://colab.research.google.com/notebooks/data_table.ipynb>data table notebook</a>'\n",
              "            + ' to learn more about interactive tables.';\n",
              "          element.innerHTML = '';\n",
              "          dataTable['output_type'] = 'display_data';\n",
              "          await google.colab.output.renderOutput(dataTable, element);\n",
              "          const docLink = document.createElement('div');\n",
              "          docLink.innerHTML = docLinkHtml;\n",
              "          element.appendChild(docLink);\n",
              "        }\n",
              "      </script>\n",
              "    </div>\n",
              "  </div>\n",
              "  "
            ]
          },
          "metadata": {},
          "execution_count": 114
        }
      ]
    },
    {
      "cell_type": "markdown",
      "source": [
        "Visualization"
      ],
      "metadata": {
        "id": "lsK593ryuHvW"
      }
    },
    {
      "cell_type": "code",
      "source": [
        "plt.figure(figsize=(15,5))\n",
        "plt.plot(monthly_sales['date'], monthly_sales['sales']) #sales is y axis and date is x axis\n",
        "plt.xlabel(\"Date\")\n",
        "plt.ylabel(\"Sales\")\n",
        "plt.title(\"Monthly Customer Sales\")\n",
        "plt.show()"
      ],
      "metadata": {
        "colab": {
          "base_uri": "https://localhost:8080/",
          "height": 350
        },
        "id": "7hak-QrCuG9d",
        "outputId": "728856b8-4f06-48a3-f9e5-6aadafe86999"
      },
      "execution_count": null,
      "outputs": [
        {
          "output_type": "display_data",
          "data": {
            "text/plain": [
              "<Figure size 1080x360 with 1 Axes>"
            ],
            "image/png": "[encoded data removed]"
          },
          "metadata": {
            "needs_background": "light"
          }
        }
      ]
    },
    {
      "cell_type": "markdown",
      "source": [
        "call the difference on the sales columns to make the sales data stationary "
      ],
      "metadata": {
        "id": "rmBfXSomumnp"
      }
    },
    {
      "cell_type": "code",
      "source": [
        "monthly_sales['sales_diff'] = monthly_sales['sales'].diff()\n",
        "monthly_sales = monthly_sales.dropna()\n",
        "monthly_sales.head(10)"
      ],
      "metadata": {
        "colab": {
          "base_uri": "https://localhost:8080/",
          "height": 363
        },
        "id": "X6fUBcSpuqXM",
        "outputId": "ebc4bedc-9d43-4b29-8c46-450369ebcc8a"
      },
      "execution_count": null,
      "outputs": [
        {
          "output_type": "execute_result",
          "data": {
            "text/plain": [
              "         date   sales  sales_diff\n",
              "1  2013-02-01  459417      4513.0\n",
              "2  2013-03-01  617382    157965.0\n",
              "3  2013-04-01  682274     64892.0\n",
              "4  2013-05-01  763242     80968.0\n",
              "5  2013-06-01  795597     32355.0\n",
              "6  2013-07-01  855922     60325.0\n",
              "7  2013-08-01  766761    -89161.0\n",
              "8  2013-09-01  689907    -76854.0\n",
              "9  2013-10-01  656587    -33320.0\n",
              "10 2013-11-01  692643     36056.0"
            ],
            "text/html": [
              "\n",
              "  <div id=\"df-279ec6d9-aa19-445f-a2e4-b085ea0d0498\">\n",
              "    <div class=\"colab-df-container\">\n",
              "      <div>\n",
              "<style scoped>\n",
              "    .dataframe tbody tr th:only-of-type {\n",
              "        vertical-align: middle;\n",
              "    }\n",
              "\n",
              "    .dataframe tbody tr th {\n",
              "        vertical-align: top;\n",
              "    }\n",
              "\n",
              "    .dataframe thead th {\n",
              "        text-align: right;\n",
              "    }\n",
              "</style>\n",
              "<table border=\"1\" class=\"dataframe\">\n",
              "  <thead>\n",
              "    <tr style=\"text-align: right;\">\n",
              "      <th></th>\n",
              "      <th>date</th>\n",
              "      <th>sales</th>\n",
              "      <th>sales_diff</th>\n",
              "    </tr>\n",
              "  </thead>\n",
              "  <tbody>\n",
              "    <tr>\n",
              "      <th>1</th>\n",
              "      <td>2013-02-01</td>\n",
              "      <td>459417</td>\n",
              "      <td>4513.0</td>\n",
              "    </tr>\n",
              "    <tr>\n",
              "      <th>2</th>\n",
              "      <td>2013-03-01</td>\n",
              "      <td>617382</td>\n",
              "      <td>157965.0</td>\n",
              "    </tr>\n",
              "    <tr>\n",
              "      <th>3</th>\n",
              "      <td>2013-04-01</td>\n",
              "      <td>682274</td>\n",
              "      <td>64892.0</td>\n",
              "    </tr>\n",
              "    <tr>\n",
              "      <th>4</th>\n",
              "      <td>2013-05-01</td>\n",
              "      <td>763242</td>\n",
              "      <td>80968.0</td>\n",
              "    </tr>\n",
              "    <tr>\n",
              "      <th>5</th>\n",
              "      <td>2013-06-01</td>\n",
              "      <td>795597</td>\n",
              "      <td>32355.0</td>\n",
              "    </tr>\n",
              "    <tr>\n",
              "      <th>6</th>\n",
              "      <td>2013-07-01</td>\n",
              "      <td>855922</td>\n",
              "      <td>60325.0</td>\n",
              "    </tr>\n",
              "    <tr>\n",
              "      <th>7</th>\n",
              "      <td>2013-08-01</td>\n",
              "      <td>766761</td>\n",
              "      <td>-89161.0</td>\n",
              "    </tr>\n",
              "    <tr>\n",
              "      <th>8</th>\n",
              "      <td>2013-09-01</td>\n",
              "      <td>689907</td>\n",
              "      <td>-76854.0</td>\n",
              "    </tr>\n",
              "    <tr>\n",
              "      <th>9</th>\n",
              "      <td>2013-10-01</td>\n",
              "      <td>656587</td>\n",
              "      <td>-33320.0</td>\n",
              "    </tr>\n",
              "    <tr>\n",
              "      <th>10</th>\n",
              "      <td>2013-11-01</td>\n",
              "      <td>692643</td>\n",
              "      <td>36056.0</td>\n",
              "    </tr>\n",
              "  </tbody>\n",
              "</table>\n",
              "</div>\n",
              "      <button class=\"colab-df-convert\" onclick=\"convertToInteractive('df-279ec6d9-aa19-445f-a2e4-b085ea0d0498')\"\n",
              "              title=\"Convert this dataframe to an interactive table.\"\n",
              "              style=\"display:none;\">\n",
              "        \n",
              "  <svg xmlns=\"http://www.w3.org/2000/svg\" height=\"24px\"viewBox=\"0 0 24 24\"\n",
              "       width=\"24px\">\n",
              "    <path d=\"M0 0h24v24H0V0z\" fill=\"none\"/>\n",
              "    <path d=\"M18.56 5.44l.94 2.06.94-2.06 2.06-.94-2.06-.94-.94-2.06-.94 2.06-2.06.94zm-11 1L8.5 8.5l.94-2.06 2.06-.94-2.06-.94L8.5 2.5l-.94 2.06-2.06.94zm10 10l.94 2.06.94-2.06 2.06-.94-2.06-.94-.94-2.06-.94 2.06-2.06.94z\"/><path d=\"M17.41 7.96l-1.37-1.37c-.4-.4-.92-.59-1.43-.59-.52 0-1.04.2-1.43.59L10.3 9.45l-7.72 7.72c-.78.78-.78 2.05 0 2.83L4 21.41c.39.39.9.59 1.41.59.51 0 1.02-.2 1.41-.59l7.78-7.78 2.81-2.81c.8-.78.8-2.07 0-2.86zM5.41 20L4 18.59l7.72-7.72 1.47 1.35L5.41 20z\"/>\n",
              "  </svg>\n",
              "      </button>\n",
              "      \n",
              "  <style>\n",
              "    .colab-df-container {\n",
              "      display:flex;\n",
              "      flex-wrap:wrap;\n",
              "      gap: 12px;\n",
              "    }\n",
              "\n",
              "    .colab-df-convert {\n",
              "      background-color: #E8F0FE;\n",
              "      border: none;\n",
              "      border-radius: 50%;\n",
              "      cursor: pointer;\n",
              "      display: none;\n",
              "      fill: #1967D2;\n",
              "      height: 32px;\n",
              "      padding: 0 0 0 0;\n",
              "      width: 32px;\n",
              "    }\n",
              "\n",
              "    .colab-df-convert:hover {\n",
              "      background-color: #E2EBFA;\n",
              "      box-shadow: 0px 1px 2px rgba(60, 64, 67, 0.3), 0px 1px 3px 1px rgba(60, 64, 67, 0.15);\n",
              "      fill: #174EA6;\n",
              "    }\n",
              "\n",
              "    [theme=dark] .colab-df-convert {\n",
              "      background-color: #3B4455;\n",
              "      fill: #D2E3FC;\n",
              "    }\n",
              "\n",
              "    [theme=dark] .colab-df-convert:hover {\n",
              "      background-color: #434B5C;\n",
              "      box-shadow: 0px 1px 3px 1px rgba(0, 0, 0, 0.15);\n",
              "      filter: drop-shadow(0px 1px 2px rgba(0, 0, 0, 0.3));\n",
              "      fill: #FFFFFF;\n",
              "    }\n",
              "  </style>\n",
              "\n",
              "      <script>\n",
              "        const buttonEl =\n",
              "          document.querySelector('#df-279ec6d9-aa19-445f-a2e4-b085ea0d0498 button.colab-df-convert');\n",
              "        buttonEl.style.display =\n",
              "          google.colab.kernel.accessAllowed ? 'block' : 'none';\n",
              "\n",
              "        async function convertToInteractive(key) {\n",
              "          const element = document.querySelector('#df-279ec6d9-aa19-445f-a2e4-b085ea0d0498');\n",
              "          const dataTable =\n",
              "            await google.colab.kernel.invokeFunction('convertToInteractive',\n",
              "                                                     [key], {});\n",
              "          if (!dataTable) return;\n",
              "\n",
              "          const docLinkHtml = 'Like what you see? Visit the ' +\n",
              "            '<a target=\"_blank\" href=https://colab.research.google.com/notebooks/data_table.ipynb>data table notebook</a>'\n",
              "            + ' to learn more about interactive tables.';\n",
              "          element.innerHTML = '';\n",
              "          dataTable['output_type'] = 'display_data';\n",
              "          await google.colab.output.renderOutput(dataTable, element);\n",
              "          const docLink = document.createElement('div');\n",
              "          docLink.innerHTML = docLinkHtml;\n",
              "          element.appendChild(docLink);\n",
              "        }\n",
              "      </script>\n",
              "    </div>\n",
              "  </div>\n",
              "  "
            ]
          },
          "metadata": {},
          "execution_count": 116
        }
      ]
    },
    {
      "cell_type": "code",
      "source": [
        "plt.figure(figsize=(15,5)) #dimensions of 15 and 5\n",
        "plt.plot(monthly_sales['date'], monthly_sales['sales'])\n",
        "plt.xlabel(\"Date\")\n",
        "plt.ylabel(\"Sales\")\n",
        "plt.title(\"Monthly Customer Sales Difference\")\n",
        "plt.show()\n"
      ],
      "metadata": {
        "colab": {
          "base_uri": "https://localhost:8080/",
          "height": 350
        },
        "id": "PN7hB2KavKFk",
        "outputId": "bfba5970-1239-4816-8827-3beb2905b616"
      },
      "execution_count": null,
      "outputs": [
        {
          "output_type": "display_data",
          "data": {
            "text/plain": [
              "<Figure size 1080x360 with 1 Axes>"
            ],
            "image/png": "[encoded data removed]"
          },
          "metadata": {
            "needs_background": "light"
          }
        }
      ]
    },
    {
      "cell_type": "markdown",
      "source": [
        "Need to train models to predict sale of items in next month using previous month\n",
        "Need to keep lookback month value is 12, so using last years of sales to predict"
      ],
      "metadata": {
        "id": "Qgds1-DVveGL"
      }
    },
    {
      "cell_type": "markdown",
      "source": [
        "Dropping off sales and date"
      ],
      "metadata": {
        "id": "rf10GvX3vnFX"
      }
    },
    {
      "cell_type": "code",
      "source": [
        "supervised_data = monthly_sales.drop(['date','sales'], axis=1)\n"
      ],
      "metadata": {
        "id": "HSah1E_Svo1Y"
      },
      "execution_count": null,
      "outputs": []
    },
    {
      "cell_type": "markdown",
      "source": [
        "prepare it so 12 months previous sales is input, and next 12 months is the output for our supervised learning models, so we will iterate over 1 to 13 inclusive, so 1 to 12"
      ],
      "metadata": {
        "id": "FnfjtXIPvxM5"
      }
    },
    {
      "cell_type": "markdown",
      "source": [
        "This gives january to december, the sales differences and the 10 rows because we defined that. The sales difference is for each store based on each month. "
      ],
      "metadata": {
        "id": "pTIlrH8ZxGpV"
      }
    },
    {
      "cell_type": "code",
      "source": [
        "for i in range(1,13):\n",
        "  col_name = 'month_' + str(i)\n",
        "  supervised_data[col_name]  = supervised_data['sales_diff'].shift(i)\n",
        "supervised_data = supervised_data.dropna().reset_index(drop=True)\n",
        "supervised_data.head(10)\n"
      ],
      "metadata": {
        "colab": {
          "base_uri": "https://localhost:8080/",
          "height": 363
        },
        "id": "gT926GmMv5eH",
        "outputId": "2a7b765b-5f9e-408b-fcea-e0ee21998138"
      },
      "execution_count": null,
      "outputs": [
        {
          "output_type": "execute_result",
          "data": {
            "text/plain": [
              "   sales_diff   month_1   month_2  ...  month_10  month_11  month_12\n",
              "0      3130.0   19380.0 -186036.0  ...   64892.0  157965.0    4513.0\n",
              "1    175184.0    3130.0   19380.0  ...   80968.0   64892.0  157965.0\n",
              "2     84613.0  175184.0    3130.0  ...   32355.0   80968.0   64892.0\n",
              "3     93963.0   84613.0  175184.0  ...   60325.0   32355.0   80968.0\n",
              "4     23965.0   93963.0   84613.0  ...  -89161.0   60325.0   32355.0\n",
              "5     82168.0   23965.0   93963.0  ...  -76854.0  -89161.0   60325.0\n",
              "6   -103414.0   82168.0   23965.0  ...  -33320.0  -76854.0  -89161.0\n",
              "7   -100472.0 -103414.0   82168.0  ...   36056.0  -33320.0  -76854.0\n",
              "8    -26241.0 -100472.0 -103414.0  ... -186036.0   36056.0  -33320.0\n",
              "9     41900.0  -26241.0 -100472.0  ...   19380.0 -186036.0   36056.0\n",
              "\n",
              "[10 rows x 13 columns]"
            ],
            "text/html": [
              "\n",
              "  <div id=\"df-c23a1489-ba63-43d9-a96b-4fd5b16843a6\">\n",
              "    <div class=\"colab-df-container\">\n",
              "      <div>\n",
              "<style scoped>\n",
              "    .dataframe tbody tr th:only-of-type {\n",
              "        vertical-align: middle;\n",
              "    }\n",
              "\n",
              "    .dataframe tbody tr th {\n",
              "        vertical-align: top;\n",
              "    }\n",
              "\n",
              "    .dataframe thead th {\n",
              "        text-align: right;\n",
              "    }\n",
              "</style>\n",
              "<table border=\"1\" class=\"dataframe\">\n",
              "  <thead>\n",
              "    <tr style=\"text-align: right;\">\n",
              "      <th></th>\n",
              "      <th>sales_diff</th>\n",
              "      <th>month_1</th>\n",
              "      <th>month_2</th>\n",
              "      <th>month_3</th>\n",
              "      <th>month_4</th>\n",
              "      <th>month_5</th>\n",
              "      <th>month_6</th>\n",
              "      <th>month_7</th>\n",
              "      <th>month_8</th>\n",
              "      <th>month_9</th>\n",
              "      <th>month_10</th>\n",
              "      <th>month_11</th>\n",
              "      <th>month_12</th>\n",
              "    </tr>\n",
              "  </thead>\n",
              "  <tbody>\n",
              "    <tr>\n",
              "      <th>0</th>\n",
              "      <td>3130.0</td>\n",
              "      <td>19380.0</td>\n",
              "      <td>-186036.0</td>\n",
              "      <td>36056.0</td>\n",
              "      <td>-33320.0</td>\n",
              "      <td>-76854.0</td>\n",
              "      <td>-89161.0</td>\n",
              "      <td>60325.0</td>\n",
              "      <td>32355.0</td>\n",
              "      <td>80968.0</td>\n",
              "      <td>64892.0</td>\n",
              "      <td>157965.0</td>\n",
              "      <td>4513.0</td>\n",
              "    </tr>\n",
              "    <tr>\n",
              "      <th>1</th>\n",
              "      <td>175184.0</td>\n",
              "      <td>3130.0</td>\n",
              "      <td>19380.0</td>\n",
              "      <td>-186036.0</td>\n",
              "      <td>36056.0</td>\n",
              "      <td>-33320.0</td>\n",
              "      <td>-76854.0</td>\n",
              "      <td>-89161.0</td>\n",
              "      <td>60325.0</td>\n",
              "      <td>32355.0</td>\n",
              "      <td>80968.0</td>\n",
              "      <td>64892.0</td>\n",
              "      <td>157965.0</td>\n",
              "    </tr>\n",
              "    <tr>\n",
              "      <th>2</th>\n",
              "      <td>84613.0</td>\n",
              "      <td>175184.0</td>\n",
              "      <td>3130.0</td>\n",
              "      <td>19380.0</td>\n",
              "      <td>-186036.0</td>\n",
              "      <td>36056.0</td>\n",
              "      <td>-33320.0</td>\n",
              "      <td>-76854.0</td>\n",
              "      <td>-89161.0</td>\n",
              "      <td>60325.0</td>\n",
              "      <td>32355.0</td>\n",
              "      <td>80968.0</td>\n",
              "      <td>64892.0</td>\n",
              "    </tr>\n",
              "    <tr>\n",
              "      <th>3</th>\n",
              "      <td>93963.0</td>\n",
              "      <td>84613.0</td>\n",
              "      <td>175184.0</td>\n",
              "      <td>3130.0</td>\n",
              "      <td>19380.0</td>\n",
              "      <td>-186036.0</td>\n",
              "      <td>36056.0</td>\n",
              "      <td>-33320.0</td>\n",
              "      <td>-76854.0</td>\n",
              "      <td>-89161.0</td>\n",
              "      <td>60325.0</td>\n",
              "      <td>32355.0</td>\n",
              "      <td>80968.0</td>\n",
              "    </tr>\n",
              "    <tr>\n",
              "      <th>4</th>\n",
              "      <td>23965.0</td>\n",
              "      <td>93963.0</td>\n",
              "      <td>84613.0</td>\n",
              "      <td>175184.0</td>\n",
              "      <td>3130.0</td>\n",
              "      <td>19380.0</td>\n",
              "      <td>-186036.0</td>\n",
              "      <td>36056.0</td>\n",
              "      <td>-33320.0</td>\n",
              "      <td>-76854.0</td>\n",
              "      <td>-89161.0</td>\n",
              "      <td>60325.0</td>\n",
              "      <td>32355.0</td>\n",
              "    </tr>\n",
              "    <tr>\n",
              "      <th>5</th>\n",
              "      <td>82168.0</td>\n",
              "      <td>23965.0</td>\n",
              "      <td>93963.0</td>\n",
              "      <td>84613.0</td>\n",
              "      <td>175184.0</td>\n",
              "      <td>3130.0</td>\n",
              "      <td>19380.0</td>\n",
              "      <td>-186036.0</td>\n",
              "      <td>36056.0</td>\n",
              "      <td>-33320.0</td>\n",
              "      <td>-76854.0</td>\n",
              "      <td>-89161.0</td>\n",
              "      <td>60325.0</td>\n",
              "    </tr>\n",
              "    <tr>\n",
              "      <th>6</th>\n",
              "      <td>-103414.0</td>\n",
              "      <td>82168.0</td>\n",
              "      <td>23965.0</td>\n",
              "      <td>93963.0</td>\n",
              "      <td>84613.0</td>\n",
              "      <td>175184.0</td>\n",
              "      <td>3130.0</td>\n",
              "      <td>19380.0</td>\n",
              "      <td>-186036.0</td>\n",
              "      <td>36056.0</td>\n",
              "      <td>-33320.0</td>\n",
              "      <td>-76854.0</td>\n",
              "      <td>-89161.0</td>\n",
              "    </tr>\n",
              "    <tr>\n",
              "      <th>7</th>\n",
              "      <td>-100472.0</td>\n",
              "      <td>-103414.0</td>\n",
              "      <td>82168.0</td>\n",
              "      <td>23965.0</td>\n",
              "      <td>93963.0</td>\n",
              "      <td>84613.0</td>\n",
              "      <td>175184.0</td>\n",
              "      <td>3130.0</td>\n",
              "      <td>19380.0</td>\n",
              "      <td>-186036.0</td>\n",
              "      <td>36056.0</td>\n",
              "      <td>-33320.0</td>\n",
              "      <td>-76854.0</td>\n",
              "    </tr>\n",
              "    <tr>\n",
              "      <th>8</th>\n",
              "      <td>-26241.0</td>\n",
              "      <td>-100472.0</td>\n",
              "      <td>-103414.0</td>\n",
              "      <td>82168.0</td>\n",
              "      <td>23965.0</td>\n",
              "      <td>93963.0</td>\n",
              "      <td>84613.0</td>\n",
              "      <td>175184.0</td>\n",
              "      <td>3130.0</td>\n",
              "      <td>19380.0</td>\n",
              "      <td>-186036.0</td>\n",
              "      <td>36056.0</td>\n",
              "      <td>-33320.0</td>\n",
              "    </tr>\n",
              "    <tr>\n",
              "      <th>9</th>\n",
              "      <td>41900.0</td>\n",
              "      <td>-26241.0</td>\n",
              "      <td>-100472.0</td>\n",
              "      <td>-103414.0</td>\n",
              "      <td>82168.0</td>\n",
              "      <td>23965.0</td>\n",
              "      <td>93963.0</td>\n",
              "      <td>84613.0</td>\n",
              "      <td>175184.0</td>\n",
              "      <td>3130.0</td>\n",
              "      <td>19380.0</td>\n",
              "      <td>-186036.0</td>\n",
              "      <td>36056.0</td>\n",
              "    </tr>\n",
              "  </tbody>\n",
              "</table>\n",
              "</div>\n",
              "      <button class=\"colab-df-convert\" onclick=\"convertToInteractive('df-c23a1489-ba63-43d9-a96b-4fd5b16843a6')\"\n",
              "              title=\"Convert this dataframe to an interactive table.\"\n",
              "              style=\"display:none;\">\n",
              "        \n",
              "  <svg xmlns=\"http://www.w3.org/2000/svg\" height=\"24px\"viewBox=\"0 0 24 24\"\n",
              "       width=\"24px\">\n",
              "    <path d=\"M0 0h24v24H0V0z\" fill=\"none\"/>\n",
              "    <path d=\"M18.56 5.44l.94 2.06.94-2.06 2.06-.94-2.06-.94-.94-2.06-.94 2.06-2.06.94zm-11 1L8.5 8.5l.94-2.06 2.06-.94-2.06-.94L8.5 2.5l-.94 2.06-2.06.94zm10 10l.94 2.06.94-2.06 2.06-.94-2.06-.94-.94-2.06-.94 2.06-2.06.94z\"/><path d=\"M17.41 7.96l-1.37-1.37c-.4-.4-.92-.59-1.43-.59-.52 0-1.04.2-1.43.59L10.3 9.45l-7.72 7.72c-.78.78-.78 2.05 0 2.83L4 21.41c.39.39.9.59 1.41.59.51 0 1.02-.2 1.41-.59l7.78-7.78 2.81-2.81c.8-.78.8-2.07 0-2.86zM5.41 20L4 18.59l7.72-7.72 1.47 1.35L5.41 20z\"/>\n",
              "  </svg>\n",
              "      </button>\n",
              "      \n",
              "  <style>\n",
              "    .colab-df-container {\n",
              "      display:flex;\n",
              "      flex-wrap:wrap;\n",
              "      gap: 12px;\n",
              "    }\n",
              "\n",
              "    .colab-df-convert {\n",
              "      background-color: #E8F0FE;\n",
              "      border: none;\n",
              "      border-radius: 50%;\n",
              "      cursor: pointer;\n",
              "      display: none;\n",
              "      fill: #1967D2;\n",
              "      height: 32px;\n",
              "      padding: 0 0 0 0;\n",
              "      width: 32px;\n",
              "    }\n",
              "\n",
              "    .colab-df-convert:hover {\n",
              "      background-color: #E2EBFA;\n",
              "      box-shadow: 0px 1px 2px rgba(60, 64, 67, 0.3), 0px 1px 3px 1px rgba(60, 64, 67, 0.15);\n",
              "      fill: #174EA6;\n",
              "    }\n",
              "\n",
              "    [theme=dark] .colab-df-convert {\n",
              "      background-color: #3B4455;\n",
              "      fill: #D2E3FC;\n",
              "    }\n",
              "\n",
              "    [theme=dark] .colab-df-convert:hover {\n",
              "      background-color: #434B5C;\n",
              "      box-shadow: 0px 1px 3px 1px rgba(0, 0, 0, 0.15);\n",
              "      filter: drop-shadow(0px 1px 2px rgba(0, 0, 0, 0.3));\n",
              "      fill: #FFFFFF;\n",
              "    }\n",
              "  </style>\n",
              "\n",
              "      <script>\n",
              "        const buttonEl =\n",
              "          document.querySelector('#df-c23a1489-ba63-43d9-a96b-4fd5b16843a6 button.colab-df-convert');\n",
              "        buttonEl.style.display =\n",
              "          google.colab.kernel.accessAllowed ? 'block' : 'none';\n",
              "\n",
              "        async function convertToInteractive(key) {\n",
              "          const element = document.querySelector('#df-c23a1489-ba63-43d9-a96b-4fd5b16843a6');\n",
              "          const dataTable =\n",
              "            await google.colab.kernel.invokeFunction('convertToInteractive',\n",
              "                                                     [key], {});\n",
              "          if (!dataTable) return;\n",
              "\n",
              "          const docLinkHtml = 'Like what you see? Visit the ' +\n",
              "            '<a target=\"_blank\" href=https://colab.research.google.com/notebooks/data_table.ipynb>data table notebook</a>'\n",
              "            + ' to learn more about interactive tables.';\n",
              "          element.innerHTML = '';\n",
              "          dataTable['output_type'] = 'display_data';\n",
              "          await google.colab.output.renderOutput(dataTable, element);\n",
              "          const docLink = document.createElement('div');\n",
              "          docLink.innerHTML = docLinkHtml;\n",
              "          element.appendChild(docLink);\n",
              "        }\n",
              "      </script>\n",
              "    </div>\n",
              "  </div>\n",
              "  "
            ]
          },
          "metadata": {},
          "execution_count": 119
        }
      ]
    },
    {
      "cell_type": "markdown",
      "source": [
        "Now we will split the data into Train and Test"
      ],
      "metadata": {
        "id": "73fv_KuBxX0o"
      }
    },
    {
      "cell_type": "code",
      "source": [
        "train_data =  supervised_data[:-12]\n",
        "test_data = supervised_data[-12:]\n",
        "print(\"Train Data Shape: \", train_data.shape)\n",
        "print(\"Test Data Shape: \", test_data.shape)"
      ],
      "metadata": {
        "colab": {
          "base_uri": "https://localhost:8080/"
        },
        "id": "SRBH-g_6xan8",
        "outputId": "0b3f7cd7-40a6-4dc7-8564-a24f0dd0537a"
      },
      "execution_count": null,
      "outputs": [
        {
          "output_type": "stream",
          "name": "stdout",
          "text": [
            "Train Data Shape:  (35, 13)\n",
            "Test Data Shape:  (12, 13)\n"
          ]
        }
      ]
    },
    {
      "cell_type": "markdown",
      "source": [
        "use min max scalar, to scale feature values to put them in range -1 to 1"
      ],
      "metadata": {
        "id": "gP2DV3pvxvfB"
      }
    },
    {
      "cell_type": "code",
      "source": [
        "scaler = MinMaxScaler(feature_range=(-1,1))\n",
        "# now we will fit train_data in the scaler\n",
        "\n",
        "scaler.fit(train_data)\n",
        "train_data = scaler.transform(train_data)\n",
        "test_data = scaler.transform(test_data)\n",
        "# in supervised data frame, the first column always corresponds to the output and remaining columns are input features"
      ],
      "metadata": {
        "id": "MuosxT83xyIB"
      },
      "execution_count": null,
      "outputs": []
    },
    {
      "cell_type": "code",
      "source": [
        "X_train, y_train = train_data[:,1:], train_data[:,0:1] \n",
        "X_test, y_test = test_data[:,1:], test_data[:,0:1] \n",
        "# in x or y test, first column is always output\n",
        "y_train = y_train.ravel()\n",
        "y_test = y_test.ravel()\n",
        "print(\"X_train Shape: \", X_train.shape)\n",
        "print(\"y_train Shape: \", y_train.shape)\n",
        "print(\"X_test Shape: \", X_test.shape)\n",
        "print(\"y_test Shape: \", y_test.shape)"
      ],
      "metadata": {
        "colab": {
          "base_uri": "https://localhost:8080/"
        },
        "id": "PDcfZEcsyHxB",
        "outputId": "2e5ad2b2-9f77-480c-c2f0-0cf5cf1ff6da"
      },
      "execution_count": null,
      "outputs": [
        {
          "output_type": "stream",
          "name": "stdout",
          "text": [
            "X_train Shape:  (35, 12)\n",
            "y_train Shape:  (35,)\n",
            "X_test Shape:  (12, 12)\n",
            "y_test Shape:  (12,)\n"
          ]
        }
      ]
    },
    {
      "cell_type": "markdown",
      "source": [
        "Last step of data pre-processing is to make a prediction data frame to merge predictive sale price of all trained algorithms"
      ],
      "metadata": {
        "id": "-0jmt7vRzM40"
      }
    },
    {
      "cell_type": "code",
      "source": [
        "# get sales dates\n",
        "\n",
        "sales_dates = monthly_sales['date'][-12:].reset_index(drop=True)\n",
        "predict_df = pd.DataFrame(sales_dates)\n"
      ],
      "metadata": {
        "id": "ro3OxibqzVAk"
      },
      "execution_count": null,
      "outputs": []
    },
    {
      "cell_type": "markdown",
      "source": [
        "Need to extract monthly sales values of last 13 months since they correspond to test data set, and these values will be used to find predicted sales prices from the predict output "
      ],
      "metadata": {
        "id": "HEElNfI0znyS"
      }
    },
    {
      "cell_type": "code",
      "source": [
        "actual_sales = monthly_sales['sales'][-13:].to_list()\n",
        "print(actual_sales)"
      ],
      "metadata": {
        "colab": {
          "base_uri": "https://localhost:8080/"
        },
        "id": "6aWqejTdz1-m",
        "outputId": "15b2cecf-1446-4ff6-caf0-488f70b82339"
      },
      "execution_count": null,
      "outputs": [
        {
          "output_type": "stream",
          "name": "stdout",
          "text": [
            "[663411, 617306, 621369, 822667, 938862, 1020686, 1064624, 1171393, 1026403, 935263, 891160, 928837, 695170]\n"
          ]
        }
      ]
    },
    {
      "cell_type": "markdown",
      "source": [
        "linear regression finds linear relationship between input variables and output variable. To train linear regression, we use scikit learn package. "
      ],
      "metadata": {
        "id": "LOj5uoJB-zKc"
      }
    },
    {
      "cell_type": "markdown",
      "source": [
        "To create the linear regression model, and predicted output: "
      ],
      "metadata": {
        "id": "hJatVKhs-7vj"
      }
    },
    {
      "cell_type": "code",
      "source": [
        "#initialize linear regression\n",
        "lr_model = LinearRegression()\n",
        "lr_model.fit(X_train, y_train)\n",
        "lr_predict = lr_model.predict(X_test)"
      ],
      "metadata": {
        "id": "UzwFwi0_-6t4"
      },
      "execution_count": null,
      "outputs": []
    },
    {
      "cell_type": "code",
      "source": [
        "lr_predict = lr_predict.reshape(-1,1) # create linear regression prediction and reshaped it\n",
        "# this is a set matrix - contains input features of the test data and also the predicted output \n",
        "lr_predict_test_set = np.concatenate([lr_predict, X_test], axis=1) #then created test set for the linear regression prediction model and concatenated prediction and x test\n",
        "lr_predict_test_set = scaler.inverse_transform(lr_predict_test_set) #then used min max scaler to inverse transform linear regression test set \n"
      ],
      "metadata": {
        "id": "hVSz65q7_Oaq"
      },
      "execution_count": null,
      "outputs": []
    },
    {
      "cell_type": "markdown",
      "source": [
        "Calculate predicted sale values "
      ],
      "metadata": {
        "id": "8kfO9CQFAEJQ"
      }
    },
    {
      "cell_type": "code",
      "source": [
        "result_list = []\n",
        "for index in range(0, len(lr_predict_test_set)):\n",
        "  result_list.append(lr_predict_test_set[index][0] + actual_sales[index])\n",
        "lr_predict_series = pd.Series(result_list, name=\"Linear Prediction\")\n",
        "#predict dataframe will merge linear regression prediction series where left index is true and right index is also true\n",
        "predict_dataframe = predict_df.merge(lr_predict_series, left_index=True, right_index=True)"
      ],
      "metadata": {
        "id": "gTzvBQhaADvE"
      },
      "execution_count": null,
      "outputs": []
    },
    {
      "cell_type": "markdown",
      "source": [
        "Since we have now calculated the predicted sale values of the test data we can now evaluate various metrics for the linear regression model. We want to compare to see variations and differences."
      ],
      "metadata": {
        "id": "AJs3IPC4Ap0a"
      }
    },
    {
      "cell_type": "code",
      "source": [
        "#will use mean squared error, mean absolute error, and r2 score\n",
        "lr_mean_squared_error = np.sqrt(mean_squared_error(predict_dataframe['Linear Prediction'], monthly_sales['sales'][-12:]))\n",
        "lr_mean_absolute_error = mean_absolute_error(predict_dataframe['Linear Prediction'], monthly_sales['sales'][-12:])\n",
        "lr_r2 = r2_score(predict_dataframe['Linear Prediction'], monthly_sales['sales'][-12:])\n",
        "\n",
        "print(\"Linear Regression Mean Squared Error: \", lr_mean_squared_error)\n",
        "print(\"Linear Regression Mean Absolute Error: \", lr_mean_absolute_error)\n",
        "print(\"Linear Regression R2 Score: \", lr_r2)"
      ],
      "metadata": {
        "colab": {
          "base_uri": "https://localhost:8080/"
        },
        "id": "BsgFpnYYDrn2",
        "outputId": "a61bdd9d-746d-4795-ffa2-5b4a4a56fa6a"
      },
      "execution_count": null,
      "outputs": [
        {
          "output_type": "stream",
          "name": "stdout",
          "text": [
            "Linear Regression Mean Squared Error:  16221.272385416869\n",
            "Linear Regression Mean Absolute Error:  12433.184266490736\n",
            "Linear Regression R2 Score:  0.9906152516380969\n"
          ]
        }
      ]
    },
    {
      "cell_type": "markdown",
      "source": [
        "Lets visualize the prediction against the actual sales"
      ],
      "metadata": {
        "id": "B5qGK4EdD70S"
      }
    },
    {
      "cell_type": "code",
      "source": [
        "plt.figure(figsize=(15,5))\n",
        "#actual sales\n",
        "plt.plot(monthly_sales['date'], monthly_sales['sales']) \n",
        "#predicted sales\n",
        "plt.plot(predict_dataframe['date'], predict_dataframe['Linear Prediction']) #Using 'Linear Prediction' is important!\n",
        "plt.title(\"Customer Sales Forecast Using Linear Regression Model\")\n",
        "plt.xlabel(\"Date\")\n",
        "plt.ylabel(\"Sales\")\n",
        "plt.legend(['Actual Sales', 'Predicted Sales'])\n",
        "plt.show()"
      ],
      "metadata": {
        "colab": {
          "base_uri": "https://localhost:8080/",
          "height": 350
        },
        "id": "fbjWfNFHD7Yu",
        "outputId": "1b4523c6-5d65-417e-fef0-eed51b9f04f7"
      },
      "execution_count": null,
      "outputs": [
        {
          "output_type": "display_data",
          "data": {
            "text/plain": [
              "<Figure size 1080x360 with 1 Axes>"
            ],
            "image/png": "[encoded data removed]"
          },
          "metadata": {
            "needs_background": "light"
          }
        }
      ]
    },
    {
      "cell_type": "markdown",
      "source": [
        "The predicted sales are only from 2017 to 2018"
      ],
      "metadata": {
        "id": "p9hUSoOGE4pC"
      }
    }
  ]
}